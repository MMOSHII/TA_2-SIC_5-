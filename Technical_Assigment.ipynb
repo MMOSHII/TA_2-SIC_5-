{
  "nbformat": 4,
  "nbformat_minor": 0,
  "metadata": {
    "colab": {
      "provenance": []
    },
    "kernelspec": {
      "name": "python3",
      "display_name": "Python 3"
    },
    "language_info": {
      "name": "python"
    }
  },
  "cells": [
    {
      "cell_type": "code",
      "source": [
        "import pandas as pd\n",
        "\n",
        "url = \"https://archive.ics.uci.edu/ml/machine-learning-databases/00601/ai4i2020.csv\"\n",
        "data = pd.read_csv(url)\n",
        "\n",
        "print(data.head())\n",
        "print(data.info())\n",
        "print(data.columns)"
      ],
      "metadata": {
        "colab": {
          "base_uri": "https://localhost:8080/"
        },
        "id": "r-0RU_6U--3h",
        "outputId": "ea9d4d0b-9d26-4e71-d8ef-25eb938e0640"
      },
      "execution_count": 1,
      "outputs": [
        {
          "output_type": "stream",
          "name": "stdout",
          "text": [
            "   UDI Product ID Type  Air temperature [K]  Process temperature [K]  \\\n",
            "0    1     M14860    M                298.1                    308.6   \n",
            "1    2     L47181    L                298.2                    308.7   \n",
            "2    3     L47182    L                298.1                    308.5   \n",
            "3    4     L47183    L                298.2                    308.6   \n",
            "4    5     L47184    L                298.2                    308.7   \n",
            "\n",
            "   Rotational speed [rpm]  Torque [Nm]  Tool wear [min]  Machine failure  TWF  \\\n",
            "0                    1551         42.8                0                0    0   \n",
            "1                    1408         46.3                3                0    0   \n",
            "2                    1498         49.4                5                0    0   \n",
            "3                    1433         39.5                7                0    0   \n",
            "4                    1408         40.0                9                0    0   \n",
            "\n",
            "   HDF  PWF  OSF  RNF  \n",
            "0    0    0    0    0  \n",
            "1    0    0    0    0  \n",
            "2    0    0    0    0  \n",
            "3    0    0    0    0  \n",
            "4    0    0    0    0  \n",
            "<class 'pandas.core.frame.DataFrame'>\n",
            "RangeIndex: 10000 entries, 0 to 9999\n",
            "Data columns (total 14 columns):\n",
            " #   Column                   Non-Null Count  Dtype  \n",
            "---  ------                   --------------  -----  \n",
            " 0   UDI                      10000 non-null  int64  \n",
            " 1   Product ID               10000 non-null  object \n",
            " 2   Type                     10000 non-null  object \n",
            " 3   Air temperature [K]      10000 non-null  float64\n",
            " 4   Process temperature [K]  10000 non-null  float64\n",
            " 5   Rotational speed [rpm]   10000 non-null  int64  \n",
            " 6   Torque [Nm]              10000 non-null  float64\n",
            " 7   Tool wear [min]          10000 non-null  int64  \n",
            " 8   Machine failure          10000 non-null  int64  \n",
            " 9   TWF                      10000 non-null  int64  \n",
            " 10  HDF                      10000 non-null  int64  \n",
            " 11  PWF                      10000 non-null  int64  \n",
            " 12  OSF                      10000 non-null  int64  \n",
            " 13  RNF                      10000 non-null  int64  \n",
            "dtypes: float64(3), int64(9), object(2)\n",
            "memory usage: 1.1+ MB\n",
            "None\n",
            "Index(['UDI', 'Product ID', 'Type', 'Air temperature [K]',\n",
            "       'Process temperature [K]', 'Rotational speed [rpm]', 'Torque [Nm]',\n",
            "       'Tool wear [min]', 'Machine failure', 'TWF', 'HDF', 'PWF', 'OSF',\n",
            "       'RNF'],\n",
            "      dtype='object')\n"
          ]
        }
      ]
    },
    {
      "cell_type": "code",
      "source": [
        "from sklearn.preprocessing import LabelEncoder\n",
        "from sklearn.preprocessing import StandardScaler\n",
        "\n",
        "categorical_columns = data.select_dtypes(include=['object']).columns\n",
        "print(\"Categorical columns:\", categorical_columns)\n",
        "\n",
        "label_encoder = LabelEncoder()\n",
        "data['Type'] = label_encoder.fit_transform(data['Type'])\n",
        "\n",
        "numerical_features = ['Air temperature [K]', 'Process temperature [K]', 'Rotational speed [rpm]', 'Torque [Nm]', 'Tool wear [min]']\n",
        "\n",
        "scaler = StandardScaler()\n",
        "data[numerical_features] = scaler.fit_transform(data[numerical_features])\n",
        "\n",
        "print(data.head())\n"
      ],
      "metadata": {
        "colab": {
          "base_uri": "https://localhost:8080/"
        },
        "id": "gAWW_q6g-_jW",
        "outputId": "e96eadec-866f-457b-c6aa-e18baaf4af93"
      },
      "execution_count": 2,
      "outputs": [
        {
          "output_type": "stream",
          "name": "stdout",
          "text": [
            "Categorical columns: Index(['Product ID', 'Type'], dtype='object')\n",
            "   UDI Product ID  Type  Air temperature [K]  Process temperature [K]  \\\n",
            "0    1     M14860     2            -0.952389                -0.947360   \n",
            "1    2     L47181     1            -0.902393                -0.879959   \n",
            "2    3     L47182     1            -0.952389                -1.014761   \n",
            "3    4     L47183     1            -0.902393                -0.947360   \n",
            "4    5     L47184     1            -0.902393                -0.879959   \n",
            "\n",
            "   Rotational speed [rpm]  Torque [Nm]  Tool wear [min]  Machine failure  TWF  \\\n",
            "0                0.068185     0.282200        -1.695984                0    0   \n",
            "1               -0.729472     0.633308        -1.648852                0    0   \n",
            "2               -0.227450     0.944290        -1.617430                0    0   \n",
            "3               -0.590021    -0.048845        -1.586009                0    0   \n",
            "4               -0.729472     0.001313        -1.554588                0    0   \n",
            "\n",
            "   HDF  PWF  OSF  RNF  \n",
            "0    0    0    0    0  \n",
            "1    0    0    0    0  \n",
            "2    0    0    0    0  \n",
            "3    0    0    0    0  \n",
            "4    0    0    0    0  \n"
          ]
        }
      ]
    },
    {
      "cell_type": "code",
      "source": [
        "print(data.columns)\n",
        "\n",
        "features = data.drop(columns=['UDI', 'Product ID', 'Machine failure', 'TWF', 'HDF', 'PWF', 'OSF', 'RNF'])\n",
        "target = data['TWF']\n",
        "\n",
        "print(features.head())\n"
      ],
      "metadata": {
        "colab": {
          "base_uri": "https://localhost:8080/"
        },
        "id": "zvt9tJx4_COP",
        "outputId": "85c0b897-5252-49af-9784-ea2fcd854f51"
      },
      "execution_count": 3,
      "outputs": [
        {
          "output_type": "stream",
          "name": "stdout",
          "text": [
            "Index(['UDI', 'Product ID', 'Type', 'Air temperature [K]',\n",
            "       'Process temperature [K]', 'Rotational speed [rpm]', 'Torque [Nm]',\n",
            "       'Tool wear [min]', 'Machine failure', 'TWF', 'HDF', 'PWF', 'OSF',\n",
            "       'RNF'],\n",
            "      dtype='object')\n",
            "   Type  Air temperature [K]  Process temperature [K]  Rotational speed [rpm]  \\\n",
            "0     2            -0.952389                -0.947360                0.068185   \n",
            "1     1            -0.902393                -0.879959               -0.729472   \n",
            "2     1            -0.952389                -1.014761               -0.227450   \n",
            "3     1            -0.902393                -0.947360               -0.590021   \n",
            "4     1            -0.902393                -0.879959               -0.729472   \n",
            "\n",
            "   Torque [Nm]  Tool wear [min]  \n",
            "0     0.282200        -1.695984  \n",
            "1     0.633308        -1.648852  \n",
            "2     0.944290        -1.617430  \n",
            "3    -0.048845        -1.586009  \n",
            "4     0.001313        -1.554588  \n"
          ]
        }
      ]
    },
    {
      "cell_type": "code",
      "source": [
        "from sklearn.model_selection import train_test_split\n",
        "from imblearn.over_sampling import SMOTE\n",
        "\n",
        "smote = SMOTE(random_state=42)\n",
        "X_resampled, y_resampled = smote.fit_resample(features, target)\n",
        "\n",
        "X_train, X_test, y_train, y_test = train_test_split(X_resampled, y_resampled, test_size=0.2, random_state=42)\n",
        "\n",
        "print(X_train.shape, X_test.shape, y_train.shape, y_test.shape)\n"
      ],
      "metadata": {
        "colab": {
          "base_uri": "https://localhost:8080/"
        },
        "id": "Vz6Z4cen_D3N",
        "outputId": "234f71b0-355e-4ec2-bbf6-c71db0928c8b"
      },
      "execution_count": 4,
      "outputs": [
        {
          "output_type": "stream",
          "name": "stdout",
          "text": [
            "(15926, 6) (3982, 6) (15926,) (3982,)\n"
          ]
        }
      ]
    },
    {
      "cell_type": "code",
      "source": [
        "from sklearn.ensemble import RandomForestClassifier\n",
        "from sklearn.linear_model import LogisticRegression\n",
        "from sklearn.svm import SVC\n",
        "\n",
        "models = {\n",
        "    'RandomForest': RandomForestClassifier(random_state=42),\n",
        "    'LogisticRegression': LogisticRegression(random_state=42),\n",
        "    'SVM': SVC(random_state=42)\n",
        "}\n",
        "\n",
        "for model_name, model in models.items():\n",
        "    model.fit(X_train, y_train)\n",
        "    print(f'{model_name} trained.')\n"
      ],
      "metadata": {
        "colab": {
          "base_uri": "https://localhost:8080/"
        },
        "id": "dLY0zFaR_Fxu",
        "outputId": "853eddea-6774-4f05-d2ce-3d79f7991236"
      },
      "execution_count": 5,
      "outputs": [
        {
          "output_type": "stream",
          "name": "stdout",
          "text": [
            "RandomForest trained.\n",
            "LogisticRegression trained.\n",
            "SVM trained.\n"
          ]
        }
      ]
    },
    {
      "cell_type": "code",
      "source": [
        "from sklearn.metrics import accuracy_score, precision_score, recall_score, f1_score\n",
        "\n",
        "for model_name, model in models.items():\n",
        "    y_pred = model.predict(X_test)\n",
        "    print(f'{model_name} Performance:')\n",
        "    print(f'Accuracy: {accuracy_score(y_test, y_pred)}')\n",
        "    print(f'Precision: {precision_score(y_test, y_pred)}')\n",
        "    print(f'Recall: {recall_score(y_test, y_pred)}')\n",
        "    print(f'F1 Score: {f1_score(y_test, y_pred)}\\n')\n"
      ],
      "metadata": {
        "colab": {
          "base_uri": "https://localhost:8080/"
        },
        "id": "7P6OrP4y_Hr1",
        "outputId": "78b4f58c-aac1-4344-810b-cd801e201334"
      },
      "execution_count": 6,
      "outputs": [
        {
          "output_type": "stream",
          "name": "stdout",
          "text": [
            "RandomForest Performance:\n",
            "Accuracy: 0.9942240080361627\n",
            "Precision: 0.988905698436712\n",
            "Recall: 0.9994903160040775\n",
            "F1 Score: 0.994169835234474\n",
            "\n",
            "LogisticRegression Performance:\n",
            "Accuracy: 0.9578101456554495\n",
            "Precision: 0.9239130434782609\n",
            "Recall: 0.9964322120285423\n",
            "F1 Score: 0.9588033349681216\n",
            "\n",
            "SVM Performance:\n",
            "Accuracy: 0.9768960321446509\n",
            "Precision: 0.9552093476144109\n",
            "Recall: 1.0\n",
            "F1 Score: 0.9770916334661354\n",
            "\n"
          ]
        }
      ]
    },
    {
      "cell_type": "code",
      "source": [
        "import numpy as np\n",
        "import seaborn as sns\n",
        "import matplotlib.pyplot as plt\n",
        "from sklearn.model_selection import GridSearchCV\n",
        "from sklearn.ensemble import RandomForestClassifier\n",
        "\n",
        "param_grid = {\n",
        "    'n_estimators': [50, 100, 200],\n",
        "    'max_depth': [None, 10, 20, 30]\n",
        "}\n",
        "\n",
        "grid_search = GridSearchCV(RandomForestClassifier(random_state=42), param_grid, cv=5, scoring='f1')\n",
        "grid_search.fit(X_train, y_train)\n",
        "\n",
        "results = pd.DataFrame(grid_search.cv_results_)\n",
        "\n",
        "scores = results.pivot(index='param_max_depth', columns='param_n_estimators', values='mean_test_score')\n",
        "\n",
        "plt.figure(figsize=(10, 8))\n",
        "sns.heatmap(scores, annot=True, fmt=\".3f\", cmap='viridis')\n",
        "plt.title('Grid Search F1 Scores')\n",
        "plt.xlabel('Number of Estimators')\n",
        "plt.ylabel('Max Depth')\n",
        "plt.show()\n",
        "\n",
        "best_params = grid_search.best_params_\n",
        "best_model = grid_search.best_estimator_\n",
        "\n",
        "print(f'Best Parameters: {best_params}')\n",
        "print(f'Best Model: {best_model}')"
      ],
      "metadata": {
        "colab": {
          "base_uri": "https://localhost:8080/",
          "height": 753
        },
        "id": "wnVDoFwQ_KDx",
        "outputId": "cb8ad4a4-6016-400d-cf2b-18452938c80b"
      },
      "execution_count": 7,
      "outputs": [
        {
          "output_type": "display_data",
          "data": {
            "text/plain": [
              "<Figure size 1000x800 with 2 Axes>"
            ],
            "image/png": "[encoded data removed]"
          },
          "metadata": {}
        },
        {
          "output_type": "stream",
          "name": "stdout",
          "text": [
            "Best Parameters: {'max_depth': None, 'n_estimators': 100}\n",
            "Best Model: RandomForestClassifier(random_state=42)\n"
          ]
        }
      ]
    }
  ]
}